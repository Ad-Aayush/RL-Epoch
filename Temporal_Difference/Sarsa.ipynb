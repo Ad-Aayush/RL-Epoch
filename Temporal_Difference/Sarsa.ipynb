{
  "nbformat": 4,
  "nbformat_minor": 0,
  "metadata": {
    "colab": {
      "provenance": [],
      "gpuType": "T4"
    },
    "kernelspec": {
      "name": "python3",
      "display_name": "Python 3"
    },
    "language_info": {
      "name": "python"
    },
    "accelerator": "GPU"
  },
  "cells": [
    {
      "cell_type": "code",
      "execution_count": 1,
      "metadata": {
        "colab": {
          "base_uri": "https://localhost:8080/"
        },
        "id": "75V0xzskwcuT",
        "outputId": "191d90ca-88c7-4d72-d59c-bab49ed76aaf"
      },
      "outputs": [
        {
          "output_type": "stream",
          "name": "stdout",
          "text": [
            "Requirement already satisfied: gym in /usr/local/lib/python3.10/dist-packages (0.25.2)\n",
            "Requirement already satisfied: numpy>=1.18.0 in /usr/local/lib/python3.10/dist-packages (from gym) (1.23.5)\n",
            "Requirement already satisfied: cloudpickle>=1.2.0 in /usr/local/lib/python3.10/dist-packages (from gym) (2.2.1)\n",
            "Requirement already satisfied: gym-notices>=0.0.4 in /usr/local/lib/python3.10/dist-packages (from gym) (0.0.8)\n"
          ]
        }
      ],
      "source": [
        "!pip install gym"
      ]
    },
    {
      "cell_type": "code",
      "source": [
        "import gym\n",
        "import numpy as np\n",
        "import random"
      ],
      "metadata": {
        "id": "8WGjyyStwr2p"
      },
      "execution_count": 2,
      "outputs": []
    },
    {
      "cell_type": "code",
      "source": [
        "env=gym.make('FrozenLake-v1',new_step_api=True)"
      ],
      "metadata": {
        "id": "Yr6F2pO4xIr0",
        "colab": {
          "base_uri": "https://localhost:8080/"
        },
        "outputId": "ccb1ec11-cf63-4894-b0be-f4099fb1df7b"
      },
      "execution_count": 3,
      "outputs": [
        {
          "output_type": "stream",
          "name": "stderr",
          "text": [
            "/usr/local/lib/python3.10/dist-packages/ipykernel/ipkernel.py:283: DeprecationWarning: `should_run_async` will not call `transform_cell` automatically in the future. Please pass the result to `transformed_cell` argument and any exception that happen during thetransform in `preprocessing_exc_tuple` in IPython 7.17 and above.\n",
            "  and should_run_async(code)\n"
          ]
        }
      ]
    },
    {
      "cell_type": "code",
      "source": [
        "actionSize = env.action_space.n\n",
        "stateSize = env.observation_space.n\n",
        "qTable = np.zeros((stateSize,actionSize))"
      ],
      "metadata": {
        "id": "syommYFuxQq7"
      },
      "execution_count": 4,
      "outputs": []
    },
    {
      "cell_type": "code",
      "source": [
        "episodeNum = 10000\n",
        "stepMax = 100\n",
        "lr = 0.1\n",
        "dr = 0.99\n",
        "e = 1\n",
        "minE = 0.01\n",
        "maxE = 1\n",
        "decay = 0.001"
      ],
      "metadata": {
        "id": "Q30-NFwix6ex"
      },
      "execution_count": 5,
      "outputs": []
    },
    {
      "cell_type": "code",
      "source": [
        "rewards_all_episodes = []\n",
        "for episode in range(episodeNum):\n",
        "  state = env.reset()\n",
        "\n",
        "  done = False\n",
        "  reward = 0\n",
        "  for step in range(stepMax):\n",
        "    if np.random.uniform(0,1) > e:\n",
        "      action = np.argmax(qTable[state,:])\n",
        "    else:\n",
        "      action = env.action_space.sample()\n",
        "\n",
        "    nState, r, done, _, info = env.step(action)\n",
        "\n",
        "    if np.random.uniform(0,1) > e:\n",
        "      nAction = np.argmax(qTable[nState,:])\n",
        "    else:\n",
        "      nAction = env.action_space.sample()\n",
        "\n",
        "    qTable[state,action] = (1-lr)*qTable[state,action] + lr*(r+qTable[nState,nAction])\n",
        "    state = nState\n",
        "    reward += r\n",
        "    if done:\n",
        "      break\n",
        "\n",
        "  e = maxE * np.exp(-decay*episode)\n",
        "  rewards_all_episodes.append(reward)"
      ],
      "metadata": {
        "id": "Fuw9KS3iyTdQ"
      },
      "execution_count": 6,
      "outputs": []
    },
    {
      "cell_type": "code",
      "source": [
        "rewards = np.array([])"
      ],
      "metadata": {
        "id": "ROEBccWF7OzV"
      },
      "execution_count": 7,
      "outputs": []
    },
    {
      "cell_type": "code",
      "source": [
        "for e in range(1, 1000):\n",
        "  state = env.reset()\n",
        "  done = False\n",
        "  reward = 0\n",
        "  for step in range(stepMax):\n",
        "    action = np.argmax(qTable[state,:])\n",
        "    nState, r, done, _, info = env.step(action)\n",
        "    reward += r\n",
        "    state = nState\n",
        "    if done:\n",
        "      rewards = np.append(rewards,reward)\n",
        "      break"
      ],
      "metadata": {
        "id": "pRL7OO2r17PY"
      },
      "execution_count": 8,
      "outputs": []
    },
    {
      "cell_type": "code",
      "source": [
        "print(np.mean(rewards))"
      ],
      "metadata": {
        "colab": {
          "base_uri": "https://localhost:8080/"
        },
        "id": "3VquZzUs19BS",
        "outputId": "c61f7364-9154-4463-94c0-689c9518e7f1"
      },
      "execution_count": 9,
      "outputs": [
        {
          "output_type": "stream",
          "name": "stdout",
          "text": [
            "0.7948717948717948\n"
          ]
        }
      ]
    },
    {
      "cell_type": "code",
      "source": [],
      "metadata": {
        "id": "v3RY9t9Y3b9h"
      },
      "execution_count": 9,
      "outputs": []
    }
  ]
}
{
  "cells": [
    {
      "cell_type": "code",
      "execution_count": null,
      "metadata": {
        "id": "LeC00i1D60ji"
      },
      "outputs": [],
      "source": [
        "import numpy as np\n",
        "import gym"
      ]
    },
    {
      "cell_type": "code",
      "execution_count": null,
      "metadata": {
        "colab": {
          "base_uri": "https://localhost:8080/"
        },
        "id": "h4U4KEsE70fP",
        "outputId": "cf6386fb-42ce-4186-8c32-893cc09eebd1"
      },
      "outputs": [
        {
          "output_type": "stream",
          "name": "stderr",
          "text": [
            "/usr/local/lib/python3.10/dist-packages/ipykernel/ipkernel.py:283: DeprecationWarning: `should_run_async` will not call `transform_cell` automatically in the future. Please pass the result to `transformed_cell` argument and any exception that happen during thetransform in `preprocessing_exc_tuple` in IPython 7.17 and above.\n",
            "  and should_run_async(code)\n"
          ]
        }
      ],
      "source": [
        "env = gym.make('Blackjack-v1', new_step_api=True)"
      ]
    },
    {
      "cell_type": "code",
      "execution_count": null,
      "metadata": {
        "id": "u7YQW22373WA"
      },
      "outputs": [],
      "source": [
        "Q = np.zeros((32,11,2,2))"
      ]
    },
    {
      "cell_type": "code",
      "source": [
        "esp = 0.1"
      ],
      "metadata": {
        "id": "TYeW-tMKuQHf"
      },
      "execution_count": null,
      "outputs": []
    },
    {
      "cell_type": "code",
      "source": [
        "pi = np.full((32,11,2,2),esp/2)"
      ],
      "metadata": {
        "id": "ZwXxQHBm_QlX"
      },
      "execution_count": null,
      "outputs": []
    },
    {
      "cell_type": "code",
      "source": [
        "Returns = np.zeros((32,11,2,2))"
      ],
      "metadata": {
        "id": "h667XjgeA7hH"
      },
      "execution_count": null,
      "outputs": []
    },
    {
      "cell_type": "code",
      "source": [
        "epNum = 1000000"
      ],
      "metadata": {
        "id": "Hqqf--EPG9Ja"
      },
      "execution_count": null,
      "outputs": []
    },
    {
      "cell_type": "code",
      "source": [
        "gamma = 0.9"
      ],
      "metadata": {
        "id": "gRSr2bGsw75n"
      },
      "execution_count": null,
      "outputs": []
    },
    {
      "cell_type": "code",
      "source": [
        "from numpy.random import standard_exponential\n",
        "for episode in range(1,epNum+1):\n",
        "  state = env.reset()\n",
        "  done = False\n",
        "  rewards = []\n",
        "  stateAction = []\n",
        "  while True:\n",
        "    prm1, prm2, prm3 = state\n",
        "    # print(prm1,prm2,prm3,Q[prm1][prm2][prm3][:])\n",
        "    if prm3:\n",
        "      prm3 = 1\n",
        "    else:\n",
        "      prm3 = 0\n",
        "    if np.random.uniform(0,1) > esp:\n",
        "      action = np.random.choice([0,1])\n",
        "    else:\n",
        "      action = np.argmax(Q[prm1][prm2][prm3][:])\n",
        "\n",
        "    nState, r, terminated, truncated, info = env.step(action)\n",
        "    rewards.append(r)\n",
        "    stateAction.append([prm1, prm2, prm3, action])\n",
        "    state = nState\n",
        "    if terminated or truncated:\n",
        "      G = 0\n",
        "      T = len(rewards)\n",
        "      # print(rewards)\n",
        "      for t in range(T-1,-1,-1):\n",
        "        # print(t)\n",
        "        G = gamma * G + rewards[t]\n",
        "        num = Returns[stateAction[t][0]][stateAction[t][1]][stateAction[t][2]][stateAction[t][3]]\n",
        "        val = Q[stateAction[t][0]][stateAction[t][1]][stateAction[t][2]][stateAction[t][3]]\n",
        "        avg = (val *num + G)/(num+1)\n",
        "        Returns[stateAction[t][0]][stateAction[t][1]][stateAction[t][2]][stateAction[t][3]] = num+1\n",
        "        Q[stateAction[t][0]][stateAction[t][1]][stateAction[t][2]][stateAction[t][3]] = avg\n",
        "        # print(avg)\n",
        "        # print(stateAction[t][0],stateAction[t][1],stateAction[t][2],stateAction[t][3])\n",
        "        # print(Q[stateAction[t][0]][stateAction[t][1]][stateAction[t][2]][stateAction[t][3]])\n",
        "        best_action = np.argmax(Q[stateAction[t][0]][stateAction[t][1]][stateAction[t][2]][:])\n",
        "        for a in range(0,2):\n",
        "          # print(\"Hi\")\n",
        "          if (a != best_action):\n",
        "            pi[stateAction[t][0]][stateAction[t][1]][stateAction[t][2]][a] = esp/2\n",
        "          else:\n",
        "            pi[stateAction[t][0]][stateAction[t][1]][stateAction[t][2]][a] = 1-esp+esp/2\n",
        "      break"
      ],
      "metadata": {
        "id": "_537gqSoHrRa"
      },
      "execution_count": null,
      "outputs": []
    },
    {
      "cell_type": "code",
      "source": [
        "win = 0\n",
        "draw = 0\n",
        "loss = 0"
      ],
      "metadata": {
        "id": "o5pE4YN49fOr"
      },
      "execution_count": null,
      "outputs": []
    },
    {
      "cell_type": "code",
      "source": [
        "for episode in range(1,10000):\n",
        "  state = env.reset()\n",
        "  done = False\n",
        "  rewards = 0\n",
        "  while True:\n",
        "    prm1, prm2, prm3 = state\n",
        "    # print(prm1,prm2,prm3,Q[prm1][prm2][prm3][:])\n",
        "    if prm3:\n",
        "      prm3 = 1\n",
        "    else:\n",
        "      prm3 = 0\n",
        "\n",
        "    action = np.argmax(pi[prm1][prm2][prm3][:])\n",
        "\n",
        "    nState, r, terminated, truncated, info = env.step(action)\n",
        "    rewards += r\n",
        "    state = nState\n",
        "    if terminated or truncated:\n",
        "      if rewards == 0:\n",
        "        draw += 1\n",
        "      elif rewards == 1:\n",
        "        win+=1\n",
        "      else:\n",
        "        loss+=1\n",
        "      break"
      ],
      "metadata": {
        "id": "6XsH2xgO1giL"
      },
      "execution_count": null,
      "outputs": []
    },
    {
      "cell_type": "code",
      "source": [
        "print(\"Win Percent:\", win/(win+draw+loss)*100)\n",
        "print(\"Draw Percent:\", draw/(win+draw+loss)*100)\n",
        "print(\"Loss Percent:\", loss/(win+draw+loss)*100)"
      ],
      "metadata": {
        "colab": {
          "base_uri": "https://localhost:8080/"
        },
        "id": "lzNXqKiX1hM_",
        "outputId": "21dfe0cf-ea34-4f7a-c4eb-dcca7cb829b6"
      },
      "execution_count": null,
      "outputs": [
        {
          "output_type": "stream",
          "name": "stdout",
          "text": [
            "Win Percent: 43.024302430243026\n",
            "Draw Percent: 7.01070107010701\n",
            "Loss Percent: 49.96499649964996\n"
          ]
        }
      ]
    }
  ],
  "metadata": {
    "colab": {
      "provenance": []
    },
    "kernelspec": {
      "display_name": "Python 3",
      "name": "python3"
    },
    "language_info": {
      "name": "python"
    }
  },
  "nbformat": 4,
  "nbformat_minor": 0
}